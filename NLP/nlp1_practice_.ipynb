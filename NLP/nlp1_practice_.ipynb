{
 "cells": [
  {
   "cell_type": "code",
   "execution_count": 1,
   "metadata": {},
   "outputs": [
    {
     "name": "stdout",
     "output_type": "stream",
     "text": [
      "Collecting nltkNote: you may need to restart the kernel to use updated packages.\n",
      "\n",
      "  Downloading nltk-3.8.1-py3-none-any.whl.metadata (2.8 kB)\n",
      "Requirement already satisfied: click in c:\\users\\rajni\\appdata\\local\\programs\\python\\python311\\lib\\site-packages (from nltk) (8.1.7)\n",
      "Collecting joblib (from nltk)\n",
      "  Downloading joblib-1.3.2-py3-none-any.whl.metadata (5.4 kB)\n",
      "Collecting regex>=2021.8.3 (from nltk)\n",
      "  Downloading regex-2023.12.25-cp311-cp311-win_amd64.whl.metadata (41 kB)\n",
      "     ---------------------------------------- 0.0/42.0 kB ? eta -:--:--\n",
      "     --------- ------------------------------ 10.2/42.0 kB ? eta -:--:--\n",
      "     -------------------------------------  41.0/42.0 kB 330.3 kB/s eta 0:00:01\n",
      "     -------------------------------------- 42.0/42.0 kB 253.9 kB/s eta 0:00:00\n",
      "Collecting tqdm (from nltk)\n",
      "  Downloading tqdm-4.66.2-py3-none-any.whl.metadata (57 kB)\n",
      "     ---------------------------------------- 0.0/57.6 kB ? eta -:--:--\n",
      "     ---------------------------------------- 57.6/57.6 kB 3.0 MB/s eta 0:00:00\n",
      "Requirement already satisfied: colorama in c:\\users\\rajni\\appdata\\roaming\\python\\python311\\site-packages (from click->nltk) (0.4.6)\n",
      "Downloading nltk-3.8.1-py3-none-any.whl (1.5 MB)\n",
      "   ---------------------------------------- 0.0/1.5 MB ? eta -:--:--\n",
      "   --- ------------------------------------ 0.1/1.5 MB 7.0 MB/s eta 0:00:01\n",
      "   --- ------------------------------------ 0.1/1.5 MB 7.0 MB/s eta 0:00:01\n",
      "   --- ------------------------------------ 0.1/1.5 MB 7.0 MB/s eta 0:00:01\n",
      "   --- ------------------------------------ 0.1/1.5 MB 7.0 MB/s eta 0:00:01\n",
      "   ----- ---------------------------------- 0.2/1.5 MB 888.4 kB/s eta 0:00:02\n",
      "   ------- -------------------------------- 0.3/1.5 MB 1.0 MB/s eta 0:00:02\n",
      "   -------- ------------------------------- 0.3/1.5 MB 999.9 kB/s eta 0:00:02\n",
      "   -------- ------------------------------- 0.3/1.5 MB 999.9 kB/s eta 0:00:02\n",
      "   -------- ------------------------------- 0.3/1.5 MB 999.9 kB/s eta 0:00:02\n",
      "   -------- ------------------------------- 0.3/1.5 MB 999.9 kB/s eta 0:00:02\n",
      "   -------- ------------------------------- 0.3/1.5 MB 999.9 kB/s eta 0:00:02\n",
      "   -------- ------------------------------- 0.3/1.5 MB 999.9 kB/s eta 0:00:02\n",
      "   -------- ------------------------------- 0.3/1.5 MB 999.9 kB/s eta 0:00:02\n",
      "   -------- ------------------------------- 0.3/1.5 MB 999.9 kB/s eta 0:00:02\n",
      "   -------- ------------------------------- 0.3/1.5 MB 999.9 kB/s eta 0:00:02\n",
      "   -------- ------------------------------- 0.3/1.5 MB 999.9 kB/s eta 0:00:02\n",
      "   -------- ------------------------------- 0.3/1.5 MB 999.9 kB/s eta 0:00:02\n",
      "   -------- ------------------------------- 0.3/1.5 MB 999.9 kB/s eta 0:00:02\n",
      "   -------- ------------------------------- 0.3/1.5 MB 999.9 kB/s eta 0:00:02\n",
      "   -------- ------------------------------- 0.3/1.5 MB 999.9 kB/s eta 0:00:02\n",
      "   -------- ------------------------------- 0.3/1.5 MB 999.9 kB/s eta 0:00:02\n",
      "   -------- ------------------------------- 0.3/1.5 MB 999.9 kB/s eta 0:00:02\n",
      "   -------- ------------------------------- 0.3/1.5 MB 999.9 kB/s eta 0:00:02\n",
      "   -------- ------------------------------- 0.3/1.5 MB 999.9 kB/s eta 0:00:02\n",
      "   -------- ------------------------------- 0.3/1.5 MB 999.9 kB/s eta 0:00:02\n",
      "   -------- ------------------------------- 0.3/1.5 MB 999.9 kB/s eta 0:00:02\n",
      "   -------- ------------------------------- 0.3/1.5 MB 999.9 kB/s eta 0:00:02\n",
      "   -------- ------------------------------- 0.3/1.5 MB 999.9 kB/s eta 0:00:02\n",
      "   ----------- ---------------------------- 0.4/1.5 MB 316.1 kB/s eta 0:00:04\n",
      "   ------------ --------------------------- 0.5/1.5 MB 331.5 kB/s eta 0:00:04\n",
      "   ----------------- ---------------------- 0.7/1.5 MB 448.6 kB/s eta 0:00:02\n",
      "   ----------------- ---------------------- 0.7/1.5 MB 448.6 kB/s eta 0:00:02\n",
      "   ----------------- ---------------------- 0.7/1.5 MB 448.6 kB/s eta 0:00:02\n",
      "   ----------------- ---------------------- 0.7/1.5 MB 448.6 kB/s eta 0:00:02\n",
      "   ----------------- ---------------------- 0.7/1.5 MB 448.6 kB/s eta 0:00:02\n",
      "   ----------------- ---------------------- 0.7/1.5 MB 448.6 kB/s eta 0:00:02\n",
      "   ----------------- ---------------------- 0.7/1.5 MB 448.6 kB/s eta 0:00:02\n",
      "   ----------------- ---------------------- 0.7/1.5 MB 448.6 kB/s eta 0:00:02\n",
      "   ----------------- ---------------------- 0.7/1.5 MB 448.6 kB/s eta 0:00:02\n",
      "   ------------------- -------------------- 0.7/1.5 MB 391.1 kB/s eta 0:00:02\n",
      "   ------------------- -------------------- 0.7/1.5 MB 391.1 kB/s eta 0:00:02\n",
      "   ---------------------- ----------------- 0.9/1.5 MB 431.6 kB/s eta 0:00:02\n",
      "   --------------------------- ------------ 1.0/1.5 MB 502.9 kB/s eta 0:00:01\n",
      "   --------------------------- ------------ 1.1/1.5 MB 510.2 kB/s eta 0:00:01\n",
      "   --------------------------- ------------ 1.1/1.5 MB 510.2 kB/s eta 0:00:01\n",
      "   --------------------------- ------------ 1.1/1.5 MB 510.2 kB/s eta 0:00:01\n",
      "   --------------------------- ------------ 1.1/1.5 MB 510.2 kB/s eta 0:00:01\n",
      "   --------------------------- ------------ 1.1/1.5 MB 510.2 kB/s eta 0:00:01\n",
      "   --------------------------- ------------ 1.1/1.5 MB 510.2 kB/s eta 0:00:01\n",
      "   --------------------------- ------------ 1.1/1.5 MB 510.2 kB/s eta 0:00:01\n",
      "   --------------------------- ------------ 1.1/1.5 MB 510.2 kB/s eta 0:00:01\n",
      "   --------------------------- ------------ 1.1/1.5 MB 510.2 kB/s eta 0:00:01\n",
      "   --------------------------- ------------ 1.1/1.5 MB 510.2 kB/s eta 0:00:01\n",
      "   --------------------------- ------------ 1.1/1.5 MB 510.2 kB/s eta 0:00:01\n",
      "   --------------------------- ------------ 1.1/1.5 MB 510.2 kB/s eta 0:00:01\n",
      "   --------------------------- ------------ 1.1/1.5 MB 510.2 kB/s eta 0:00:01\n",
      "   --------------------------- ------------ 1.1/1.5 MB 510.2 kB/s eta 0:00:01\n",
      "   ----------------------------- ---------- 1.1/1.5 MB 394.0 kB/s eta 0:00:02\n",
      "   ------------------------------ --------- 1.1/1.5 MB 408.7 kB/s eta 0:00:01\n",
      "   --------------------------------- ------ 1.3/1.5 MB 435.7 kB/s eta 0:00:01\n",
      "   --------------------------------- ------ 1.3/1.5 MB 435.7 kB/s eta 0:00:01\n",
      "   ------------------------------------ --- 1.4/1.5 MB 455.3 kB/s eta 0:00:01\n",
      "   ------------------------------------ --- 1.4/1.5 MB 463.3 kB/s eta 0:00:01\n",
      "   ------------------------------------ --- 1.4/1.5 MB 463.3 kB/s eta 0:00:01\n",
      "   ------------------------------------ --- 1.4/1.5 MB 463.3 kB/s eta 0:00:01\n",
      "   ------------------------------------ --- 1.4/1.5 MB 463.3 kB/s eta 0:00:01\n",
      "   ------------------------------------ --- 1.4/1.5 MB 463.3 kB/s eta 0:00:01\n",
      "   ------------------------------------ --- 1.4/1.5 MB 463.3 kB/s eta 0:00:01\n",
      "   ------------------------------------ --- 1.4/1.5 MB 463.3 kB/s eta 0:00:01\n",
      "   ------------------------------------ --- 1.4/1.5 MB 463.3 kB/s eta 0:00:01\n",
      "   ------------------------------------ --- 1.4/1.5 MB 463.3 kB/s eta 0:00:01\n",
      "   ------------------------------------ --- 1.4/1.5 MB 463.3 kB/s eta 0:00:01\n",
      "   ------------------------------------ --- 1.4/1.5 MB 463.3 kB/s eta 0:00:01\n",
      "   ------------------------------------ --- 1.4/1.5 MB 463.3 kB/s eta 0:00:01\n",
      "   ------------------------------------ --- 1.4/1.5 MB 463.3 kB/s eta 0:00:01\n",
      "   ------------------------------------ --- 1.4/1.5 MB 463.3 kB/s eta 0:00:01\n",
      "   ------------------------------------ --- 1.4/1.5 MB 463.3 kB/s eta 0:00:01\n",
      "   ------------------------------------- -- 1.4/1.5 MB 384.4 kB/s eta 0:00:01\n",
      "   -------------------------------------- - 1.5/1.5 MB 384.6 kB/s eta 0:00:01\n",
      "   ---------------------------------------  1.5/1.5 MB 391.0 kB/s eta 0:00:01\n",
      "   ---------------------------------------- 1.5/1.5 MB 388.8 kB/s eta 0:00:00\n",
      "Downloading regex-2023.12.25-cp311-cp311-win_amd64.whl (269 kB)\n",
      "   ---------------------------------------- 0.0/269.5 kB ? eta -:--:--\n",
      "   ------ --------------------------------- 41.0/269.5 kB ? eta -:--:--\n",
      "   ------ --------------------------------- 41.0/269.5 kB ? eta -:--:--\n",
      "   --------------- ---------------------- 112.6/269.5 kB 939.4 kB/s eta 0:00:01\n",
      "   ----------------------- -------------- 163.8/269.5 kB 756.6 kB/s eta 0:00:01\n",
      "   ------------------------------- ------ 225.3/269.5 kB 919.0 kB/s eta 0:00:01\n",
      "   ------------------------------- ------ 225.3/269.5 kB 919.0 kB/s eta 0:00:01\n",
      "   ------------------------------- ------ 225.3/269.5 kB 919.0 kB/s eta 0:00:01\n",
      "   -------------------------------------- 269.5/269.5 kB 691.3 kB/s eta 0:00:00\n",
      "Downloading joblib-1.3.2-py3-none-any.whl (302 kB)\n",
      "   ---------------------------------------- 0.0/302.2 kB ? eta -:--:--\n",
      "   ---------------------------------------- 0.0/302.2 kB ? eta -:--:--\n",
      "   ---- ----------------------------------- 30.7/302.2 kB ? eta -:--:--\n",
      "   ---- ----------------------------------- 30.7/302.2 kB ? eta -:--:--\n",
      "   ---- ----------------------------------- 30.7/302.2 kB ? eta -:--:--\n",
      "   ------- ------------------------------- 61.4/302.2 kB 469.7 kB/s eta 0:00:01\n",
      "   --------- ----------------------------- 71.7/302.2 kB 302.7 kB/s eta 0:00:01\n",
      "   --------- ----------------------------- 71.7/302.2 kB 302.7 kB/s eta 0:00:01\n",
      "   --------- ----------------------------- 71.7/302.2 kB 302.7 kB/s eta 0:00:01\n",
      "   -------------- ----------------------- 112.6/302.2 kB 298.5 kB/s eta 0:00:01\n",
      "   -------------- ----------------------- 112.6/302.2 kB 298.5 kB/s eta 0:00:01\n",
      "   -------------- ----------------------- 112.6/302.2 kB 298.5 kB/s eta 0:00:01\n",
      "   ------------------ ------------------- 143.4/302.2 kB 266.2 kB/s eta 0:00:01\n",
      "   --------------------- ---------------- 174.1/302.2 kB 318.1 kB/s eta 0:00:01\n",
      "   --------------------- ---------------- 174.1/302.2 kB 318.1 kB/s eta 0:00:01\n",
      "   --------------------- ---------------- 174.1/302.2 kB 318.1 kB/s eta 0:00:01\n",
      "   ------------------------- ------------ 204.8/302.2 kB 296.6 kB/s eta 0:00:01\n",
      "   ------------------------- ------------ 204.8/302.2 kB 296.6 kB/s eta 0:00:01\n",
      "   ----------------------------- -------- 235.5/302.2 kB 294.5 kB/s eta 0:00:01\n",
      "   ----------------------------- -------- 235.5/302.2 kB 294.5 kB/s eta 0:00:01\n",
      "   ----------------------------- -------- 235.5/302.2 kB 294.5 kB/s eta 0:00:01\n",
      "   ---------------------------------- --- 276.5/302.2 kB 304.3 kB/s eta 0:00:01\n",
      "   ---------------------------------- --- 276.5/302.2 kB 304.3 kB/s eta 0:00:01\n",
      "   -------------------------------------- 302.2/302.2 kB 292.0 kB/s eta 0:00:00\n",
      "Downloading tqdm-4.66.2-py3-none-any.whl (78 kB)\n",
      "   ---------------------------------------- 0.0/78.3 kB ? eta -:--:--\n",
      "   -------------------- ------------------- 41.0/78.3 kB 991.0 kB/s eta 0:00:01\n",
      "   -------------------- ------------------- 41.0/78.3 kB 991.0 kB/s eta 0:00:01\n",
      "   ------------------------------------ --- 71.7/78.3 kB 438.9 kB/s eta 0:00:01\n",
      "   ---------------------------------------- 78.3/78.3 kB 436.3 kB/s eta 0:00:00\n",
      "Installing collected packages: tqdm, regex, joblib, nltk\n",
      "Successfully installed joblib-1.3.2 nltk-3.8.1 regex-2023.12.25 tqdm-4.66.2\n"
     ]
    }
   ],
   "source": [
    "pip install nltk # 1 Natural Language ToolKit\n",
    " # This is not neede for colab"
   ]
  },
  {
   "cell_type": "code",
   "execution_count": 2,
   "metadata": {},
   "outputs": [],
   "source": [
    "import nltk"
   ]
  },
  {
   "cell_type": "code",
   "execution_count": 3,
   "metadata": {},
   "outputs": [
    {
     "name": "stderr",
     "output_type": "stream",
     "text": [
      "[nltk_data] Downloading package punkt to\n",
      "[nltk_data]     C:\\Users\\rajni\\AppData\\Roaming\\nltk_data...\n",
      "[nltk_data]   Unzipping tokenizers\\punkt.zip.\n"
     ]
    },
    {
     "data": {
      "text/plain": [
       "True"
      ]
     },
     "execution_count": 3,
     "metadata": {},
     "output_type": "execute_result"
    }
   ],
   "source": [
    "#nltk.download()  \n",
    "nltk.download('punkt') # this will download required data for tokenization"
   ]
  },
  {
   "cell_type": "code",
   "execution_count": 4,
   "metadata": {},
   "outputs": [],
   "source": [
    "corpus=\"\"\" Hello welcome to the world of nlp.\n",
    "It is very intresting world! Amazing to be here.\n",
    "\"\"\"\n",
    "#corpus when data set is large == paragraph , when data set is large"
   ]
  },
  {
   "cell_type": "code",
   "execution_count": 5,
   "metadata": {},
   "outputs": [
    {
     "name": "stdout",
     "output_type": "stream",
     "text": [
      " Hello welcome to the world of nlp.\n",
      "It is very intresting world! Amazing to be here.\n",
      "\n"
     ]
    }
   ],
   "source": [
    "print(corpus)"
   ]
  },
  {
   "cell_type": "code",
   "execution_count": 6,
   "metadata": {},
   "outputs": [],
   "source": [
    "#1. Tokenization\n",
    "#2. Paragraph to sentence\n",
    "\n",
    "from nltk.tokenize import sent_tokenize\n"
   ]
  },
  {
   "cell_type": "code",
   "execution_count": 8,
   "metadata": {},
   "outputs": [],
   "source": [
    "document=sent_tokenize(corpus)"
   ]
  },
  {
   "cell_type": "code",
   "execution_count": 9,
   "metadata": {},
   "outputs": [
    {
     "name": "stdout",
     "output_type": "stream",
     "text": [
      "[' Hello welcome to the world of nlp.', 'It is very intresting world!', 'Amazing to be here.']\n"
     ]
    }
   ],
   "source": [
    "print(document)"
   ]
  },
  {
   "cell_type": "code",
   "execution_count": 10,
   "metadata": {},
   "outputs": [
    {
     "data": {
      "text/plain": [
       "list"
      ]
     },
     "execution_count": 10,
     "metadata": {},
     "output_type": "execute_result"
    }
   ],
   "source": [
    "type(document)"
   ]
  },
  {
   "cell_type": "code",
   "execution_count": 11,
   "metadata": {},
   "outputs": [
    {
     "name": "stdout",
     "output_type": "stream",
     "text": [
      " Hello welcome to the world of nlp.\n",
      "It is very intresting world!\n",
      "Amazing to be here.\n"
     ]
    }
   ],
   "source": [
    "for sentence in document:\n",
    "    print(sentence)"
   ]
  },
  {
   "cell_type": "code",
   "execution_count": 12,
   "metadata": {},
   "outputs": [
    {
     "name": "stdout",
     "output_type": "stream",
     "text": [
      "['Hello', 'welcome', 'to', 'the', 'world', 'of', 'nlp', '.', 'It', 'is', 'very', 'intresting', 'world', '!', 'Amazing', 'to', 'be', 'here', '.']\n"
     ]
    }
   ],
   "source": [
    "#1. Tokenization\n",
    "#2. Sentence to words\n",
    "\n",
    "from nltk.tokenize import word_tokenize\n",
    "document1=word_tokenize(corpus)\n",
    "print(document1)"
   ]
  },
  {
   "cell_type": "code",
   "execution_count": 14,
   "metadata": {},
   "outputs": [
    {
     "name": "stdout",
     "output_type": "stream",
     "text": [
      "['Hello', 'welcome', 'to', 'the', 'world', 'of', 'nlp', '.']\n",
      "['It', 'is', 'very', 'intresting', 'world', '!']\n",
      "['Amazing', 'to', 'be', 'here', '.']\n"
     ]
    }
   ],
   "source": [
    "for sentence in document:\n",
    "    print(word_tokenize(sentence))\n",
    " "
   ]
  },
  {
   "cell_type": "code",
   "execution_count": 15,
   "metadata": {},
   "outputs": [
    {
     "data": {
      "text/plain": [
       "['Hello',\n",
       " 'welcome',\n",
       " 'to',\n",
       " 'the',\n",
       " 'world',\n",
       " 'of',\n",
       " 'nlp',\n",
       " '.',\n",
       " 'It',\n",
       " 'is',\n",
       " 'very',\n",
       " 'intresting',\n",
       " 'world',\n",
       " '!',\n",
       " 'Amazing',\n",
       " 'to',\n",
       " 'be',\n",
       " 'here',\n",
       " '.']"
      ]
     },
     "execution_count": 15,
     "metadata": {},
     "output_type": "execute_result"
    }
   ],
   "source": [
    "from nltk.tokenize import wordpunct_tokenize\n",
    "wordpunct_tokenize(corpus)"
   ]
  },
  {
   "cell_type": "code",
   "execution_count": null,
   "metadata": {},
   "outputs": [],
   "source": []
  }
 ],
 "metadata": {
  "kernelspec": {
   "display_name": "Python 3",
   "language": "python",
   "name": "python3"
  },
  "language_info": {
   "codemirror_mode": {
    "name": "ipython",
    "version": 3
   },
   "file_extension": ".py",
   "mimetype": "text/x-python",
   "name": "python",
   "nbconvert_exporter": "python",
   "pygments_lexer": "ipython3",
   "version": "3.11.4"
  }
 },
 "nbformat": 4,
 "nbformat_minor": 2
}
